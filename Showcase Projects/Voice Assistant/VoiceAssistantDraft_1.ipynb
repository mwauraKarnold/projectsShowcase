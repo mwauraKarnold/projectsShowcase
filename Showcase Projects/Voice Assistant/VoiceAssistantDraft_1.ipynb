{
 "cells": [
  {
   "cell_type": "code",
   "execution_count": 1,
   "id": "911798bd",
   "metadata": {},
   "outputs": [],
   "source": [
    "import speech_recognition as sr\n",
    "import pyttsx3 as tts\n",
    "import sys"
   ]
  },
  {
   "cell_type": "code",
   "execution_count": 2,
   "id": "97982ec6",
   "metadata": {},
   "outputs": [],
   "source": [
    "r = sr.Recognizer()"
   ]
  },
  {
   "cell_type": "code",
   "execution_count": 3,
   "id": "8caac0d1",
   "metadata": {},
   "outputs": [],
   "source": [
    "def record_audio():\n",
    "    with sr.Microphone() as source:\n",
    "        audio = r.listen(source)\n",
    "        voice_data = ''\n",
    "        try:\n",
    "            voice_data = r.recognize_google(audio)\n",
    "        except sr.UnknownValueError:\n",
    "            print('did not understand')\n",
    "        except sr.RequestError:\n",
    "            print('service is down')\n",
    "        return voice_data"
   ]
  },
  {
   "cell_type": "code",
   "execution_count": 4,
   "id": "febd47cd",
   "metadata": {},
   "outputs": [
    {
     "ename": "SyntaxError",
     "evalue": "unexpected EOF while parsing (<ipython-input-4-692af9031d34>, line 2)",
     "output_type": "error",
     "traceback": [
      "\u001b[1;36m  File \u001b[1;32m\"<ipython-input-4-692af9031d34>\"\u001b[1;36m, line \u001b[1;32m2\u001b[0m\n\u001b[1;33m    \u001b[0m\n\u001b[1;37m    ^\u001b[0m\n\u001b[1;31mSyntaxError\u001b[0m\u001b[1;31m:\u001b[0m unexpected EOF while parsing\n"
     ]
    }
   ],
   "source": [
    "def respond(voice_data):\n",
    "    "
   ]
  },
  {
   "cell_type": "code",
   "execution_count": 5,
   "id": "135b60d5",
   "metadata": {},
   "outputs": [
    {
     "name": "stdout",
     "output_type": "stream",
     "text": [
      "Say something\n",
      "Arnold\n"
     ]
    }
   ],
   "source": [
    "print('Say something')\n",
    "voice_data = record_audio()\n",
    "#print(voice_data)\n",
    "#respond(voice_data)"
   ]
  },
  {
   "cell_type": "code",
   "execution_count": null,
   "id": "dc29ce60",
   "metadata": {},
   "outputs": [],
   "source": []
  }
 ],
 "metadata": {
  "kernelspec": {
   "display_name": "Python 3",
   "language": "python",
   "name": "python3"
  },
  "language_info": {
   "codemirror_mode": {
    "name": "ipython",
    "version": 3
   },
   "file_extension": ".py",
   "mimetype": "text/x-python",
   "name": "python",
   "nbconvert_exporter": "python",
   "pygments_lexer": "ipython3",
   "version": "3.8.11"
  }
 },
 "nbformat": 4,
 "nbformat_minor": 5
}
